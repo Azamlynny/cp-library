{
 "cells": [
  {
   "cell_type": "code",
   "execution_count": 1,
   "metadata": {},
   "outputs": [],
   "source": [
    "import subprocess\n",
    "from bs4 import BeautifulSoup\n",
    "import requests\n",
    "import os\n",
    "import time\n",
    "from tqdm import tqdm"
   ]
  },
  {
   "cell_type": "code",
   "execution_count": 3,
   "metadata": {},
   "outputs": [],
   "source": [
    "contest_id = '1811'\n",
    "problem_id = 'F'\n",
    "directory = contest_id + '/' + problem_id\n",
    "replace = {'&quot;': '\\\"', '&gt;': '>', '&lt;': '<', '&amp;': '&', \"&apos;\": \"'\"}\n",
    "languages = {'GNU C++20 (64)', 'GNU C++14', 'GNU C++11', 'GNU C++17'} # , 'Java 8':'Java 11.0.5', 'Python 3': 'Python 3.7.2', 'Python 2':'Python 2.7.15'\n",
    "\n",
    "if (not os.path.exists(directory)):\n",
    "    os.makedirs(directory)\n",
    "if (not os.path.exists(os.path.join(directory,'compiled'))):\n",
    "    os.makedirs(os.path.join(directory,'compiled'))"
   ]
  },
  {
   "cell_type": "code",
   "execution_count": 4,
   "metadata": {},
   "outputs": [],
   "source": [
    "def parse(code):\n",
    "\tfor key in replace.keys():\n",
    "\t\tcode = code.replace(key, replace[key])\n",
    "\treturn code\n",
    "\n",
    "#fetches the code corresponding to the parameter url\n",
    "def getCode(submission_url, submission_id, contest_id):\n",
    "    source = requests.get(submission_url).text\n",
    "    soup = BeautifulSoup(source, 'html.parser')\n",
    "    language = soup.findAll('td')[3].text[6:-6]\n",
    "    if language not in languages:\n",
    "        return\n",
    "    code = soup.findAll('pre')[0].text\n",
    "    code = parse(code).replace('\\r', '')\n",
    "    if code != '':\n",
    "        print(\"Sucessfully fetched\", submission_id + \".cpp\")\n",
    "        filewrite = open(directory + '/' + submission_id + '.cpp', 'w')\n",
    "        filewrite.write(code)\n",
    "        filewrite.close()"
   ]
  },
  {
   "cell_type": "code",
   "execution_count": 5,
   "metadata": {},
   "outputs": [
    {
     "name": "stderr",
     "output_type": "stream",
     "text": [
      "  0%|          | 0/3 [00:00<?, ?it/s]"
     ]
    },
    {
     "name": "stdout",
     "output_type": "stream",
     "text": [
      "Parsing page: 1\n",
      "Sucessfully fetched 200882521.cpp\n",
      "Sucessfully fetched 200882352.cpp\n",
      "Sucessfully fetched 200882307.cpp\n",
      "Sucessfully fetched 200882201.cpp\n",
      "Failed to fetch: http://codeforces.com/contest/1811/submission/200882201\n",
      "Sucessfully fetched 200881847.cpp\n",
      "Sucessfully fetched 200881794.cpp\n",
      "Sucessfully fetched 200881245.cpp\n",
      "Sucessfully fetched 200881040.cpp\n",
      "Sucessfully fetched 200880792.cpp\n",
      "Sucessfully fetched 200880698.cpp\n",
      "Sucessfully fetched 200880696.cpp\n",
      "Sucessfully fetched 200880637.cpp\n",
      "Sucessfully fetched 200880528.cpp\n",
      "Sucessfully fetched 200880428.cpp\n",
      "Sucessfully fetched 200879886.cpp\n",
      "Sucessfully fetched 200879830.cpp\n",
      "Sucessfully fetched 200879597.cpp\n",
      "Sucessfully fetched 200879423.cpp\n",
      "Sucessfully fetched 200879376.cpp\n",
      "Sucessfully fetched 200879102.cpp\n",
      "Failed to fetch: http://codeforces.com/contest/1811/submission/200879102\n",
      "Sucessfully fetched 200878901.cpp\n",
      "Failed to fetch: http://codeforces.com/contest/1811/submission/200878901\n",
      "Sucessfully fetched 200878889.cpp\n",
      "Failed to fetch: http://codeforces.com/contest/1811/submission/200878889\n",
      "Sucessfully fetched 200878841.cpp\n",
      "Sucessfully fetched 200878720.cpp\n",
      "Sucessfully fetched 200878390.cpp\n",
      "Sucessfully fetched 200878104.cpp\n",
      "Sucessfully fetched 200878014.cpp\n",
      "Sucessfully fetched 200877826.cpp\n",
      "Sucessfully fetched 200866322.cpp\n",
      "Sucessfully fetched 200866116.cpp\n",
      "Failed to fetch: http://codeforces.com/contest/1811/submission/200866116\n",
      "Sucessfully fetched 200865482.cpp\n",
      "Sucessfully fetched 200864704.cpp\n",
      "Sucessfully fetched 200864599.cpp\n",
      "Sucessfully fetched 200864577.cpp\n",
      "Sucessfully fetched 200863833.cpp\n",
      "Sucessfully fetched 200863634.cpp\n",
      "Sucessfully fetched 200863213.cpp\n",
      "Sucessfully fetched 200863076.cpp\n",
      "Sucessfully fetched 200862739.cpp\n",
      "Sucessfully fetched 200862161.cpp\n",
      "Sucessfully fetched 200861077.cpp\n"
     ]
    },
    {
     "name": "stderr",
     "output_type": "stream",
     "text": [
      " 33%|███▎      | 1/3 [01:58<03:57, 118.91s/it]"
     ]
    },
    {
     "name": "stdout",
     "output_type": "stream",
     "text": [
      "Parsing page: 2\n",
      "Sucessfully fetched 200862739.cpp\n",
      "Sucessfully fetched 200862161.cpp\n",
      "Sucessfully fetched 200861077.cpp\n",
      "Sucessfully fetched 200860043.cpp\n",
      "Sucessfully fetched 200859658.cpp\n",
      "Sucessfully fetched 200859268.cpp\n",
      "Sucessfully fetched 200858862.cpp\n",
      "Sucessfully fetched 200858309.cpp\n",
      "Sucessfully fetched 200857575.cpp\n",
      "Sucessfully fetched 200856945.cpp\n",
      "Sucessfully fetched 200856748.cpp\n",
      "Sucessfully fetched 200856722.cpp\n",
      "Sucessfully fetched 200856473.cpp\n",
      "Sucessfully fetched 200855590.cpp\n",
      "Sucessfully fetched 200854827.cpp\n",
      "Sucessfully fetched 200854233.cpp\n",
      "Sucessfully fetched 200854086.cpp\n",
      "Sucessfully fetched 200853193.cpp\n",
      "Sucessfully fetched 200853069.cpp\n",
      "Sucessfully fetched 200852639.cpp\n",
      "Sucessfully fetched 200852492.cpp\n",
      "Sucessfully fetched 200852293.cpp\n",
      "Sucessfully fetched 200851948.cpp\n"
     ]
    },
    {
     "name": "stderr",
     "output_type": "stream",
     "text": [
      " 67%|██████▋   | 2/3 [04:23<02:13, 133.75s/it]"
     ]
    },
    {
     "name": "stdout",
     "output_type": "stream",
     "text": [
      "Parsing page: 3\n",
      "Failed to fetch: http://codeforces.com/contest/1811/submission/200831686\n"
     ]
    },
    {
     "name": "stderr",
     "output_type": "stream",
     "text": [
      "100%|██████████| 3/3 [07:03<00:00, 141.04s/it]\n"
     ]
    }
   ],
   "source": [
    "page = 1\n",
    "max_page = 3\n",
    "for i in tqdm(range(page,max_page+1)):\n",
    "    url = \"http://codeforces.com/contest/\"+contest_id+\"/status/\"+problem_id+\"/page/\" + str(page) + \"?order=BY_ARRIVED_DESC\"\n",
    "    print (\"Parsing page:\", page)\n",
    "    try:\n",
    "        source = requests.get(url).text\n",
    "        soup = BeautifulSoup(source, 'html.parser')\n",
    "        submissions = soup.findAll('a', {'class':'view-source'})\n",
    "        \n",
    "        for submission in submissions:\n",
    "            submission_url = \"http://codeforces.com\" + submission['href']\n",
    "            try:\n",
    "                getCode(submission_url, submission['submissionid'], contest_id)\n",
    "            except:\n",
    "                print(\"Failed to fetch:\", submission_url)\n",
    "                continue\n",
    "            time.sleep(2)\n",
    "\n",
    "    except:\n",
    "        print(\"Finished parsing on page:\", page)\n",
    "\n",
    "    page+=1"
   ]
  },
  {
   "cell_type": "code",
   "execution_count": 6,
   "metadata": {},
   "outputs": [
    {
     "name": "stderr",
     "output_type": "stream",
     "text": [
      "100%|██████████| 62/62 [00:58<00:00,  1.06it/s]\n"
     ]
    }
   ],
   "source": [
    "for file in tqdm(os.listdir(directory)):\n",
    "    file_name = os.path.splitext(file)[0]\n",
    "    file_ext = os.path.splitext(file)[1]\n",
    "    try:\n",
    "        os.system('g++ ' + os.path.join(directory, file_name)+file_ext + ' -o ' + os.path.join(directory,'compiled',file_name) + ' -O2')    \n",
    "    except:\n",
    "        continue"
   ]
  },
  {
   "cell_type": "code",
   "execution_count": 8,
   "metadata": {},
   "outputs": [
    {
     "name": "stderr",
     "output_type": "stream",
     "text": [
      " 17%|█▋        | 9/53 [00:00<00:01, 22.28it/s]\n"
     ]
    },
    {
     "ename": "CalledProcessError",
     "evalue": "Command 'more input.txt | 1811\\F\\compiled\\200856473.exe' returned non-zero exit status 3.",
     "output_type": "error",
     "traceback": [
      "\u001b[1;31m---------------------------------------------------------------------------\u001b[0m",
      "\u001b[1;31mCalledProcessError\u001b[0m                        Traceback (most recent call last)",
      "Cell \u001b[1;32mIn[8], line 12\u001b[0m\n\u001b[0;32m     10\u001b[0m file \u001b[38;5;241m=\u001b[39m dirs[i]\n\u001b[0;32m     11\u001b[0m cmd \u001b[38;5;241m=\u001b[39m \u001b[38;5;124m'\u001b[39m\u001b[38;5;124mmore input.txt | 1811\u001b[39m\u001b[38;5;124m\\\u001b[39m\u001b[38;5;124mF\u001b[39m\u001b[38;5;124m\\\u001b[39m\u001b[38;5;124mcompiled\u001b[39m\u001b[38;5;130;01m\\\\\u001b[39;00m\u001b[38;5;124m'\u001b[39m \u001b[38;5;241m+\u001b[39m file\n\u001b[1;32m---> 12\u001b[0m test \u001b[38;5;241m=\u001b[39m \u001b[43msubprocess\u001b[49m\u001b[38;5;241;43m.\u001b[39;49m\u001b[43mcheck_output\u001b[49m\u001b[43m(\u001b[49m\u001b[43mcmd\u001b[49m\u001b[43m,\u001b[49m\u001b[43m \u001b[49m\u001b[43mshell\u001b[49m\u001b[38;5;241;43m=\u001b[39;49m\u001b[38;5;28;43;01mTrue\u001b[39;49;00m\u001b[43m)\u001b[49m\n\u001b[0;32m     13\u001b[0m test \u001b[38;5;241m=\u001b[39m test\u001b[38;5;241m.\u001b[39mlower()\n\u001b[0;32m     14\u001b[0m \u001b[38;5;28;01mif\u001b[39;00m (\u001b[38;5;124m'\u001b[39m\u001b[38;5;124myes\u001b[39m\u001b[38;5;124m'\u001b[39m \u001b[38;5;129;01min\u001b[39;00m \u001b[38;5;28mstr\u001b[39m(test)):\n",
      "File \u001b[1;32mc:\\Users\\Azaml\\anaconda3\\envs\\cf\\lib\\subprocess.py:415\u001b[0m, in \u001b[0;36mcheck_output\u001b[1;34m(timeout, *popenargs, **kwargs)\u001b[0m\n\u001b[0;32m    412\u001b[0m         empty \u001b[39m=\u001b[39m \u001b[39mb\u001b[39m\u001b[39m'\u001b[39m\u001b[39m'\u001b[39m\n\u001b[0;32m    413\u001b[0m     kwargs[\u001b[39m'\u001b[39m\u001b[39minput\u001b[39m\u001b[39m'\u001b[39m] \u001b[39m=\u001b[39m empty\n\u001b[1;32m--> 415\u001b[0m \u001b[39mreturn\u001b[39;00m run(\u001b[39m*\u001b[39;49mpopenargs, stdout\u001b[39m=\u001b[39;49mPIPE, timeout\u001b[39m=\u001b[39;49mtimeout, check\u001b[39m=\u001b[39;49m\u001b[39mTrue\u001b[39;49;00m,\n\u001b[0;32m    416\u001b[0m            \u001b[39m*\u001b[39;49m\u001b[39m*\u001b[39;49mkwargs)\u001b[39m.\u001b[39mstdout\n",
      "File \u001b[1;32mc:\\Users\\Azaml\\anaconda3\\envs\\cf\\lib\\subprocess.py:516\u001b[0m, in \u001b[0;36mrun\u001b[1;34m(input, capture_output, timeout, check, *popenargs, **kwargs)\u001b[0m\n\u001b[0;32m    514\u001b[0m     retcode \u001b[39m=\u001b[39m process\u001b[39m.\u001b[39mpoll()\n\u001b[0;32m    515\u001b[0m     \u001b[39mif\u001b[39;00m check \u001b[39mand\u001b[39;00m retcode:\n\u001b[1;32m--> 516\u001b[0m         \u001b[39mraise\u001b[39;00m CalledProcessError(retcode, process\u001b[39m.\u001b[39margs,\n\u001b[0;32m    517\u001b[0m                                  output\u001b[39m=\u001b[39mstdout, stderr\u001b[39m=\u001b[39mstderr)\n\u001b[0;32m    518\u001b[0m \u001b[39mreturn\u001b[39;00m CompletedProcess(process\u001b[39m.\u001b[39margs, retcode, stdout, stderr)\n",
      "\u001b[1;31mCalledProcessError\u001b[0m: Command 'more input.txt | 1811\\F\\compiled\\200856473.exe' returned non-zero exit status 3."
     ]
    }
   ],
   "source": [
    "with open('input.txt', 'r') as myfile: \n",
    "    test_input = myfile.read()\n",
    "with open('output.txt', 'r') as myfile: \n",
    "    test_output = myfile.read()\n",
    "\n",
    "dirs = os.listdir('1811\\F\\compiled')\n",
    "hackable = []\n",
    "\n",
    "for i in tqdm(range(len(dirs))):\n",
    "    file = dirs[i]\n",
    "    cmd = 'more input.txt | 1811\\F\\compiled\\\\' + file\n",
    "    try:\n",
    "        test = subprocess.check_output(cmd, shell=True)\n",
    "        test = test.lower()\n",
    "        if ('yes' in str(test)):\n",
    "            hackable.append(os.path.splitext(file)[0])\n",
    "    except:\n",
    "        print(\"Ran into runtime exception:\", file)\n",
    "for h in hackable:\n",
    "    print(h)"
   ]
  }
 ],
 "metadata": {
  "kernelspec": {
   "display_name": "Python 3.8.16 ('cf')",
   "language": "python",
   "name": "python3"
  },
  "language_info": {
   "codemirror_mode": {
    "name": "ipython",
    "version": 3
   },
   "file_extension": ".py",
   "mimetype": "text/x-python",
   "name": "python",
   "nbconvert_exporter": "python",
   "pygments_lexer": "ipython3",
   "version": "3.8.16"
  },
  "orig_nbformat": 4,
  "vscode": {
   "interpreter": {
    "hash": "fd2c44aa160b0d8d1643e83b7680d404dca5d97032815ecd2edb968bfd63b94b"
   }
  }
 },
 "nbformat": 4,
 "nbformat_minor": 2
}
