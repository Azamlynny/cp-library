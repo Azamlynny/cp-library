{
 "cells": [
  {
   "cell_type": "code",
   "execution_count": 1,
   "metadata": {},
   "outputs": [],
   "source": [
    "import subprocess\n",
    "from bs4 import BeautifulSoup\n",
    "import requests\n",
    "import os\n",
    "import time\n",
    "from tqdm import tqdm"
   ]
  },
  {
   "cell_type": "code",
   "execution_count": 2,
   "metadata": {},
   "outputs": [],
   "source": [
    "contest_id = '1800'\n",
    "problem_id = 'A'\n",
    "directory = contest_id + '/' + problem_id\n",
    "replace = {'&quot;': '\\\"', '&gt;': '>', '&lt;': '<', '&amp;': '&', \"&apos;\": \"'\"}\n",
    "languages = {'GNU C++20 (64)', 'GNU C++14', 'GNU C++11', 'GNU C++17'} # , 'Java 8':'Java 11.0.5', 'Python 3': 'Python 3.7.2', 'Python 2':'Python 2.7.15'\n",
    "\n",
    "if (not os.path.exists(directory)):\n",
    "    os.makedirs(directory)\n",
    "if (not os.path.exists(os.path.join(directory,'compiled'))):\n",
    "    os.makedirs(os.path.join(directory,'compiled'))"
   ]
  },
  {
   "cell_type": "code",
   "execution_count": 3,
   "metadata": {},
   "outputs": [],
   "source": [
    "def parse(code):\n",
    "\tfor key in replace.keys():\n",
    "\t\tcode = code.replace(key, replace[key])\n",
    "\treturn code\n",
    "\n",
    "#fetches the code corresponding to the parameter url\n",
    "def getCode(submission_url, submission_id, contest_id):\n",
    "    source = requests.get(submission_url).text\n",
    "    soup = BeautifulSoup(source, 'html.parser')\n",
    "    language = soup.findAll('td')[3].text[6:-6]\n",
    "    if language not in languages:\n",
    "        return\n",
    "    code = soup.findAll('pre')[0].text\n",
    "    code = parse(code).replace('\\r', '')\n",
    "    if code != '':\n",
    "        print(\"Sucessfully fetched\", submission_id + \".cpp\")\n",
    "        filewrite = open(directory + '/' + submission_id + '.cpp', 'w')\n",
    "        filewrite.write(code)\n",
    "        filewrite.close()"
   ]
  },
  {
   "cell_type": "code",
   "execution_count": null,
   "metadata": {},
   "outputs": [],
   "source": [
    "page = 5\n",
    "max_page = 287\n",
    "url = \"http://codeforces.com/contest/\"+contest_id+\"/status/\"+problem_id+\"/page/\" + str(page) + \"?order=BY_ARRIVED_DESC\"\n",
    "print(url)\n",
    "for i in tqdm(range(page,max_page+1)):\n",
    "    url = \"http://codeforces.com/contest/\"+contest_id+\"/status/\"+problem_id+\"/page/\" + str(page) + \"?order=BY_ARRIVED_DESC\"\n",
    "    print (\"Parsing page:\", page)\n",
    "    try:\n",
    "        source = requests.get(url, timeout=3.5).text\n",
    "        soup = BeautifulSoup(source, 'html.parser')\n",
    "        submissions = soup.findAll('a', {'class':'view-source'})\n",
    "        \n",
    "        for submission in submissions:\n",
    "            submission_url = \"http://codeforces.com\" + submission['href']\n",
    "            try:\n",
    "                getCode(submission_url, submission['submissionid'], contest_id)\n",
    "            except:\n",
    "                print(\"Failed to fetch:\", submission_url)\n",
    "                continue\n",
    "            time.sleep(1)\n",
    "\n",
    "    except:\n",
    "        print(\"Failed parsing on page:\", page)\n",
    "\n",
    "    page+=1"
   ]
  },
  {
   "cell_type": "code",
   "execution_count": 4,
   "metadata": {},
   "outputs": [
    {
     "name": "stderr",
     "output_type": "stream",
     "text": [
      "100%|██████████| 1037/1037 [13:52<00:00,  1.25it/s]\n"
     ]
    }
   ],
   "source": [
    "for file in tqdm(os.listdir(directory)):\n",
    "    file_name = os.path.splitext(file)[0]\n",
    "    file_ext = os.path.splitext(file)[1]\n",
    "    try:\n",
    "        os.system('g++ ' + os.path.join(directory, file_name)+file_ext + ' -o ' + os.path.join(directory,'compiled',file_name) + ' -O2')    \n",
    "    except:\n",
    "        continue"
   ]
  },
  {
   "cell_type": "code",
   "execution_count": 1,
   "metadata": {},
   "outputs": [
    {
     "ename": "NameError",
     "evalue": "name 'contest_id' is not defined",
     "output_type": "error",
     "traceback": [
      "\u001b[1;31m---------------------------------------------------------------------------\u001b[0m",
      "\u001b[1;31mNameError\u001b[0m                                 Traceback (most recent call last)",
      "Cell \u001b[1;32mIn[1], line 6\u001b[0m\n\u001b[0;32m      3\u001b[0m \u001b[38;5;28;01mwith\u001b[39;00m \u001b[38;5;28mopen\u001b[39m(\u001b[38;5;124m'\u001b[39m\u001b[38;5;124moutput.txt\u001b[39m\u001b[38;5;124m'\u001b[39m, \u001b[38;5;124m'\u001b[39m\u001b[38;5;124mr\u001b[39m\u001b[38;5;124m'\u001b[39m) \u001b[38;5;28;01mas\u001b[39;00m myfile: \n\u001b[0;32m      4\u001b[0m     test_output \u001b[38;5;241m=\u001b[39m myfile\u001b[38;5;241m.\u001b[39mread()\n\u001b[1;32m----> 6\u001b[0m pref \u001b[38;5;241m=\u001b[39m \u001b[43mcontest_id\u001b[49m \u001b[38;5;241m+\u001b[39m\u001b[38;5;124m'\u001b[39m\u001b[38;5;130;01m\\\\\u001b[39;00m\u001b[38;5;124m'\u001b[39m\u001b[38;5;241m+\u001b[39mproblem_id\n\u001b[0;32m      7\u001b[0m hackable \u001b[38;5;241m=\u001b[39m []\n\u001b[0;32m      8\u001b[0m rte \u001b[38;5;241m=\u001b[39m []\n",
      "\u001b[1;31mNameError\u001b[0m: name 'contest_id' is not defined"
     ]
    }
   ],
   "source": [
    "with open('input.txt', 'r') as myfile: \n",
    "    test_input = myfile.read()\n",
    "with open('output.txt', 'r') as myfile: \n",
    "    test_output = myfile.read()\n",
    "\n",
    "pref = contest_id +'\\\\'+problem_id\n",
    "hackable = []\n",
    "rte = []\n",
    "for file in tqdm(os.listdir(pref + '\\compiled')):\n",
    "    print(file)\n",
    "    cmd = 'more input.txt | ' + pref + '\\compiled\\\\' + file\n",
    "    try:\n",
    "        out = subprocess.check_output(cmd, shell=True, text=True)\n",
    "        out = out.lower()\n",
    "        # print(out)\n",
    "        out = out.rstrip()\n",
    "        if (out == test_output):\n",
    "            # print(out)\n",
    "            hackable.append(os.path.splitext(file)[0])\n",
    "    except:\n",
    "        rte.append(file)\n",
    "        \n",
    "for r in rte:\n",
    "    print(\"Ran into runtime exception:\", file)\n",
    "\n",
    "print(\"Hackable:\" )\n",
    "for h in hackable:\n",
    "    print('https://codeforces.com/contest/' +contest_id + '/submission/' +  h)"
   ]
  }
 ],
 "metadata": {
  "kernelspec": {
   "display_name": "Python 3.8.16 ('cf')",
   "language": "python",
   "name": "python3"
  },
  "language_info": {
   "codemirror_mode": {
    "name": "ipython",
    "version": 3
   },
   "file_extension": ".py",
   "mimetype": "text/x-python",
   "name": "python",
   "nbconvert_exporter": "python",
   "pygments_lexer": "ipython3",
   "version": "3.8.16"
  },
  "orig_nbformat": 4,
  "vscode": {
   "interpreter": {
    "hash": "fd2c44aa160b0d8d1643e83b7680d404dca5d97032815ecd2edb968bfd63b94b"
   }
  }
 },
 "nbformat": 4,
 "nbformat_minor": 2
}
