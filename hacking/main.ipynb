{
 "cells": [
  {
   "cell_type": "code",
   "execution_count": 1,
   "metadata": {},
   "outputs": [],
   "source": [
    "import subprocess\n",
    "from bs4 import BeautifulSoup\n",
    "import requests\n",
    "import os\n",
    "import time\n",
    "from tqdm import tqdm\n",
    "import shlex\n"
   ]
  },
  {
   "cell_type": "code",
   "execution_count": 2,
   "metadata": {},
   "outputs": [],
   "source": [
    "contest_id = '1814'\n",
    "problem_id = 'A'\n",
    "# time_limit = 1.0\n",
    "\n",
    "directory = contest_id + '/' + problem_id\n",
    "replace = {'&quot;': '\\\"', '&gt;': '>', '&lt;': '<', '&amp;': '&', \"&apos;\": \"'\"}\n",
    "languages = {'GNU C++20 (64)', 'GNU C++14', 'GNU C++11', 'GNU C++17'} # , 'Java 8':'Java 11.0.5', 'Python 3': 'Python 3.7.2', 'Python 2':'Python 2.7.15'\n",
    "\n",
    "if (not os.path.exists(directory)):\n",
    "    os.makedirs(directory)\n",
    "if (not os.path.exists(os.path.join(directory,'compiled'))):\n",
    "    os.makedirs(os.path.join(directory,'compiled'))"
   ]
  },
  {
   "cell_type": "code",
   "execution_count": 3,
   "metadata": {},
   "outputs": [],
   "source": [
    "def parse(code):\n",
    "\tfor key in replace.keys():\n",
    "\t\tcode = code.replace(key, replace[key])\n",
    "\treturn code\n",
    "\n",
    "#fetches the code corresponding to the parameter url\n",
    "def getCode(submission_url, submission_id, contest_id):\n",
    "    source = requests.get(submission_url).text\n",
    "    soup = BeautifulSoup(source, 'html.parser')\n",
    "    language = soup.findAll('td')[3].text[6:-6]\n",
    "    if language not in languages:\n",
    "        return\n",
    "    code = soup.findAll('pre')[0].text\n",
    "    code = parse(code).replace('\\r', '')\n",
    "    if code != '':\n",
    "        print(\"Sucessfully fetched\", submission_id + \".cpp\")\n",
    "        filewrite = open(directory + '/' + submission_id + '.cpp', 'w')\n",
    "        filewrite.write(code)\n",
    "        filewrite.close()"
   ]
  },
  {
   "cell_type": "code",
   "execution_count": 5,
   "metadata": {},
   "outputs": [
    {
     "name": "stdout",
     "output_type": "stream",
     "text": [
      "http://codeforces.com/contest/1814/status/B/page/20?order=BY_ARRIVED_DESC\n"
     ]
    },
    {
     "name": "stderr",
     "output_type": "stream",
     "text": [
      "  0%|          | 0/41 [00:00<?, ?it/s]"
     ]
    },
    {
     "name": "stdout",
     "output_type": "stream",
     "text": [
      "Parsing page: 20 http://codeforces.com/contest/1814/status/B/page/20?order=BY_ARRIVED_DESC\n",
      "Sucessfully fetched 201054737.cpp\n",
      "Sucessfully fetched 201054686.cpp\n",
      "Failed to fetch: http://codeforces.com/contest/1814/submission/201054686\n",
      "Failed to fetch: http://codeforces.com/contest/1814/submission/201054655\n",
      "Sucessfully fetched 201054615.cpp\n",
      "Sucessfully fetched 201054590.cpp\n",
      "Sucessfully fetched 201054589.cpp\n",
      "Sucessfully fetched 201054563.cpp\n",
      "Sucessfully fetched 201054551.cpp\n",
      "Sucessfully fetched 201054488.cpp\n",
      "Sucessfully fetched 201054487.cpp\n",
      "Sucessfully fetched 201054485.cpp\n",
      "Sucessfully fetched 201054484.cpp\n",
      "Sucessfully fetched 201054471.cpp\n",
      "Sucessfully fetched 201054470.cpp\n",
      "Failed to fetch: http://codeforces.com/contest/1814/submission/201054470\n",
      "Sucessfully fetched 201054440.cpp\n"
     ]
    },
    {
     "name": "stderr",
     "output_type": "stream",
     "text": [
      "  2%|▏         | 1/41 [00:21<14:00, 21.02s/it]"
     ]
    },
    {
     "name": "stdout",
     "output_type": "stream",
     "text": [
      "Failed parsing on page: 20\n",
      "Parsing page: 21 http://codeforces.com/contest/1814/status/B/page/21?order=BY_ARRIVED_DESC\n",
      "Sucessfully fetched 201054026.cpp\n",
      "Sucessfully fetched 201054020.cpp\n",
      "Failed to fetch: http://codeforces.com/contest/1814/submission/201054020\n",
      "Sucessfully fetched 201054009.cpp\n",
      "Failed to fetch: http://codeforces.com/contest/1814/submission/201054009\n",
      "Sucessfully fetched 201054004.cpp\n",
      "Sucessfully fetched 201053976.cpp\n",
      "Sucessfully fetched 201053966.cpp\n",
      "Sucessfully fetched 201053963.cpp\n",
      "Sucessfully fetched 201053952.cpp\n",
      "Sucessfully fetched 201053944.cpp\n",
      "Sucessfully fetched 201053940.cpp\n"
     ]
    }
   ],
   "source": [
    "page = 1\n",
    "max_page = 100\n",
    "url = \"http://codeforces.com/contest/\"+contest_id+\"/status/\"+problem_id+\"/page/\" + str(page) + \"?order=BY_ARRIVED_DESC\"\n",
    "print(url)\n",
    "for i in tqdm(range(page,max_page+1)):\n",
    "    url = \"http://codeforces.com/contest/\"+contest_id+\"/status/\"+problem_id+\"/page/\" + str(page) + \"?order=BY_ARRIVED_DESC\"\n",
    "    print (\"Parsing page:\", page, url)\n",
    "    try:\n",
    "        source = requests.get(url, timeout=5).text\n",
    "        soup = BeautifulSoup(source, 'html.parser')\n",
    "        submissions = soup.findAll('a', {'class':'view-source'})\n",
    "        \n",
    "        for submission in submissions:\n",
    "            submission_url = \"http://codeforces.com\" + submission['href']\n",
    "            try:\n",
    "                getCode(submission_url, submission['submissionid'], contest_id)\n",
    "            except:\n",
    "                print(\"Failed to fetch:\", submission_url)\n",
    "                continue\n",
    "            time.sleep(1)\n",
    "\n",
    "    except:\n",
    "        print(\"Failed parsing on page:\", page)\n",
    "\n",
    "    page+=1"
   ]
  },
  {
   "cell_type": "code",
   "execution_count": 4,
   "metadata": {},
   "outputs": [
    {
     "name": "stderr",
     "output_type": "stream",
     "text": [
      "100%|██████████| 809/809 [13:50<00:00,  1.03s/it]\n"
     ]
    }
   ],
   "source": [
    "for file in tqdm(os.listdir(directory)):\n",
    "    file_name = os.path.splitext(file)[0]\n",
    "    file_ext = os.path.splitext(file)[1]\n",
    "    try:\n",
    "        os.system('g++ ' + os.path.join(directory, file_name)+file_ext + ' -o ' + os.path.join(directory,'compiled',file_name) + ' -O2 -DONLINE_JUDGE')    \n",
    "    except:\n",
    "        continue"
   ]
  },
  {
   "cell_type": "code",
   "execution_count": 6,
   "metadata": {},
   "outputs": [
    {
     "name": "stderr",
     "output_type": "stream",
     "text": [
      "100%|██████████| 738/738 [02:39<00:00,  4.63it/s]"
     ]
    },
    {
     "name": "stdout",
     "output_type": "stream",
     "text": [
      "Hackable:\n",
      "https://codeforces.com/contest/1814/submission/200998734\n",
      "https://codeforces.com/contest/1814/submission/200999414\n",
      "https://codeforces.com/contest/1814/submission/201004994\n",
      "https://codeforces.com/contest/1814/submission/201005070\n",
      "https://codeforces.com/contest/1814/submission/201005371\n",
      "https://codeforces.com/contest/1814/submission/201005837\n",
      "https://codeforces.com/contest/1814/submission/201008096\n",
      "https://codeforces.com/contest/1814/submission/201008861\n",
      "https://codeforces.com/contest/1814/submission/201013246\n",
      "https://codeforces.com/contest/1814/submission/201013971\n",
      "https://codeforces.com/contest/1814/submission/201014078\n",
      "https://codeforces.com/contest/1814/submission/201018078\n",
      "https://codeforces.com/contest/1814/submission/201018272\n",
      "https://codeforces.com/contest/1814/submission/201018528\n",
      "https://codeforces.com/contest/1814/submission/201018742\n",
      "https://codeforces.com/contest/1814/submission/201023036\n",
      "https://codeforces.com/contest/1814/submission/201023249\n",
      "https://codeforces.com/contest/1814/submission/201024405\n",
      "https://codeforces.com/contest/1814/submission/201029383\n",
      "https://codeforces.com/contest/1814/submission/201034359\n",
      "https://codeforces.com/contest/1814/submission/201035140\n",
      "https://codeforces.com/contest/1814/submission/201038583\n",
      "https://codeforces.com/contest/1814/submission/201041518\n",
      "https://codeforces.com/contest/1814/submission/201044579\n",
      "https://codeforces.com/contest/1814/submission/201044763\n",
      "https://codeforces.com/contest/1814/submission/201045125\n",
      "https://codeforces.com/contest/1814/submission/201048026\n",
      "https://codeforces.com/contest/1814/submission/201051509\n",
      "https://codeforces.com/contest/1814/submission/201053236\n",
      "\n",
      "TLE: \n",
      "https://codeforces.com/contest/1814/submission/201005265\n",
      "https://codeforces.com/contest/1814/submission/201017774\n",
      "https://codeforces.com/contest/1814/submission/201028448\n",
      "https://codeforces.com/contest/1814/submission/201037784\n",
      "https://codeforces.com/contest/1814/submission/201038142\n",
      "https://codeforces.com/contest/1814/submission/201038968\n",
      "https://codeforces.com/contest/1814/submission/201041152\n",
      "https://codeforces.com/contest/1814/submission/201051141\n"
     ]
    },
    {
     "name": "stderr",
     "output_type": "stream",
     "text": [
      "\n"
     ]
    }
   ],
   "source": [
    "with open('input.txt', 'r') as myfile: \n",
    "    test_input = myfile.read()\n",
    "with open('TESToutput.txt', 'r') as myfile: \n",
    "    test_output = myfile.read()\n",
    "\n",
    "test_output = test_output.lower().rstrip()\n",
    "\n",
    "time_limit = 2.1\n",
    "\n",
    "pref = contest_id +'\\\\'+problem_id\n",
    "hackable = []\n",
    "rte = []\n",
    "tle = []    \n",
    "for file in tqdm(os.listdir(pref + '\\compiled')):\n",
    "    # print(file)\n",
    "    cmd = 'more input.txt | ' + pref + '\\compiled\\\\' + file\n",
    "    try:\n",
    "        p = subprocess.Popen([pref + '\\compiled\\\\' + file], stdout=subprocess.PIPE, stdin=subprocess.PIPE, stderr=None, text=True)\n",
    "        p.stdin.write(test_input)\n",
    "        p.stdin.flush()\n",
    "\n",
    "        out = None\n",
    "        try:\n",
    "            out, err = p.communicate(timeout=time_limit)\n",
    "        except subprocess.TimeoutExpired:\n",
    "            p.kill()\n",
    "            tle.append(os.path.splitext(file)[0])\n",
    "            continue\n",
    "            # out, err = p.communicate()\n",
    "        out = out.strip().lower()\n",
    "        output_string = \"\"\n",
    "        str_list = out.split('Press any key to continue . . .')\n",
    "        for element in str_list:\n",
    "            output_string += element\n",
    "        out = output_string\n",
    "        # out = p.stdout.readline().strip().lower()\n",
    "        # print(out)\n",
    "        # out = subprocess.run(cmd, shell=True, text=True, timeout=time_limit, stderr=None, capture_output=True)\n",
    "        if (out != test_output):\n",
    "            hackable.append(os.path.splitext(file)[0])\n",
    "        pass\n",
    "            # out = subprocess.run(cmd, shell=True, text=True, timeout=time_limit, stderr=None, capture_output=True).stdout\n",
    "    except subprocess.TimeoutExpired:\n",
    "        # print(\"TLE: \", file)\n",
    "        tle.append(os.path.splitext(file)[0])\n",
    "        pass\n",
    "    except:\n",
    "        # rte.append(file)\n",
    "        pass\n",
    "        \n",
    "for r in rte:\n",
    "    print(\"Ran into runtime exception:\", file)\n",
    "\n",
    "print(\"Hackable:\" )\n",
    "for h in hackable:\n",
    "    print('https://codeforces.com/contest/' +contest_id + '/submission/' +  h)\n",
    "\n",
    "print(\"\")\n",
    "print(\"TLE: \")\n",
    "for t in tle:\n",
    "    print('https://codeforces.com/contest/' +contest_id + '/submission/' +  t)"
   ]
  }
 ],
 "metadata": {
  "kernelspec": {
   "display_name": "Python 3.8.16 ('cf')",
   "language": "python",
   "name": "python3"
  },
  "language_info": {
   "codemirror_mode": {
    "name": "ipython",
    "version": 3
   },
   "file_extension": ".py",
   "mimetype": "text/x-python",
   "name": "python",
   "nbconvert_exporter": "python",
   "pygments_lexer": "ipython3",
   "version": "3.8.16"
  },
  "orig_nbformat": 4,
  "vscode": {
   "interpreter": {
    "hash": "fd2c44aa160b0d8d1643e83b7680d404dca5d97032815ecd2edb968bfd63b94b"
   }
  }
 },
 "nbformat": 4,
 "nbformat_minor": 2
}
